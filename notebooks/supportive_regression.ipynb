{
 "cells": [
  {
   "cell_type": "markdown",
   "source": [
    "# In-game data predictions experiments (supportive regression on init dataset)"
   ],
   "metadata": {
    "collapsed": false
   },
   "id": "c7baf099bb993f40"
  },
  {
   "cell_type": "code",
   "execution_count": 1,
   "outputs": [
    {
     "name": "stderr",
     "output_type": "stream",
     "text": [
      "C:\\Users\\nicky\\AppData\\Local\\Temp\\ipykernel_19112\\4066457769.py:95: UserWarning: pandas only supports SQLAlchemy connectable (engine/connection) or database string URI or sqlite3 DBAPI2 connection. Other DBAPI2 objects are not tested. Please consider using SQLAlchemy.\n",
      "  df = pandas.read_sql_query(query, conn)\n"
     ]
    }
   ],
   "source": [
    "import pandas\n",
    "import psycopg2\n",
    "\n",
    "player_ranks_to_mmr_dict = {\n",
    "  \"Herald IW\": [1, 1],\n",
    "  \"Herald I\": [1, 154],\n",
    "  \"Herald II\": [154, 308],\n",
    "  \"Herald III\": [308, 462],\n",
    "  \"Herald IV\": [462, 616],\n",
    "  \"Herald V\": [616, 769],\n",
    "  \"Guardian IW\": [770, 770],\n",
    "  \"Guardian I\": [770, 924],\n",
    "  \"Guardian II\": [924, 1078],\n",
    "  \"Guardian III\": [1078, 1232],\n",
    "  \"Guardian IV\": [1232, 1386],\n",
    "  \"Guardian V\": [1386, 1540],\n",
    "  \"Crusader IW\": [1540, 1540],\n",
    "  \"Crusader I\": [1540, 1694],\n",
    "  \"Crusader II\": [1694, 1848],\n",
    "  \"Crusader III\": [1848, 2002],\n",
    "  \"Crusader IV\": [2002, 2156],\n",
    "  \"Crusader V\": [2156, 2310],\n",
    "  \"Archon IW\": [2310, 2310],\n",
    "  \"Archon I\": [2310, 2464],\n",
    "  \"Archon II\": [2464, 2618],\n",
    "  \"Archon III\": [2618, 2772],\n",
    "  \"Archon IV\": [2772, 2926],\n",
    "  \"Archon V\": [2926, 3080],\n",
    "  \"Legend IW\": [3080, 3080],\n",
    "  \"Legend I\": [3080, 3234],\n",
    "  \"Legend II\": [3234, 3388],\n",
    "  \"Legend III\": [3388, 3542],\n",
    "  \"Legend IV\": [3542, 3696],\n",
    "  \"Legend V\": [3696, 3850],\n",
    "  \"Ancient IW\": [3850, 3850],\n",
    "  \"Ancient I\": [3850, 4004],\n",
    "  \"Ancient II\": [4004, 4158],\n",
    "  \"Ancient III\": [4158, 4312],\n",
    "  \"Ancient IV\": [4312, 4466],\n",
    "  \"Ancient V\": [4466, 4620],\n",
    "  \"Divine IW\": [4620, 4620],\n",
    "  \"Divine I\": [4620, 4820],\n",
    "  \"Divine II\": [4820, 5020],\n",
    "  \"Divine III\": [5020, 5220],\n",
    "  \"Divine IV\": [5220, 5420],\n",
    "  \"Divine V\": [5420, 5620],\n",
    "  \"Immortal IW\": [5621, 5621],\n",
    "  \"Immortal I\": [5622, 5820],\n",
    "  \"Immortal II\": [5820, 6020],\n",
    "  \"Immortal III\": [6020, 6320],\n",
    "  \"Immortal IV\": [6320, 6620]\n",
    "}\n",
    "\n",
    "def transform_to_mmr(player_rank):\n",
    "    return sum(player_ranks_to_mmr_dict[player_rank]) / 2\n",
    "\n",
    "query = \"\"\"\n",
    "    SELECT\n",
    "    ms.*,\n",
    "    h.name_local as hero_name_local,\n",
    "    h.hero_pickrate_average,\n",
    "    h.hero_winrate_average,\n",
    "    h.hero_pickrate_up_to_crusader,\n",
    "    h.hero_winrate_up_to_crusader,\n",
    "    h.hero_pickrate_archon,\n",
    "    h.hero_winrate_archon,\n",
    "    h.hero_pickrate_legend,\n",
    "    h.hero_winrate_legend,\n",
    "    h.hero_pickrate_ancient,\n",
    "    h.hero_winrate_ancient,\n",
    "    h.hero_pickrate_divine_immortal,\n",
    "    h.hero_winrate_divine_immortal,\n",
    "    m.datetime as match_datetime,\n",
    "    m.radiant_win as match_radiant_win,\n",
    "    m.duration as match_duration,\n",
    "    m.radiant_score as match_radiant_score,\n",
    "    m.dire_score as match_dire_score\n",
    "FROM\n",
    "    match_stats ms\n",
    "JOIN\n",
    "    heroes h ON ms.hero_id = h.id\n",
    "JOIN\n",
    "    matches m ON ms.match_id = m.id;\n",
    "\n",
    "\"\"\"\n",
    "\n",
    "conn = psycopg2.connect(\n",
    "                    dbname='dota_ai_od',\n",
    "                    user='limited_user',\n",
    "                    password='*removed*',\n",
    "                    host='*azure*',\n",
    "                    port='5432')\n",
    "\n",
    "\n",
    "df = pandas.read_sql_query(query, conn)\n",
    "\n",
    "df['player_side'] = df['player_side'].astype('category')\n",
    "\n",
    "\n",
    "conn.close()"
   ],
   "metadata": {
    "collapsed": false,
    "ExecuteTime": {
     "end_time": "2024-05-01T07:55:39.402391400Z",
     "start_time": "2024-05-01T07:55:33.034898700Z"
    }
   },
   "id": "a71404ded835906f"
  },
  {
   "cell_type": "code",
   "execution_count": 2,
   "outputs": [],
   "source": [
    "df['match_id'] = df['match_id'].astype('int64')\n",
    "df['player_nickname'] = df['player_nickname'].astype(str)\n",
    "df['player_side'] = df['player_side'].astype('category')\n",
    "df['player_lasthits'] = df['player_lasthits'].astype('int64')\n",
    "df['player_denies'] = df['player_denies'].astype('int64')\n",
    "df['hero_name_local'] = df['hero_name_local'].astype(str)\n",
    "df['player_match_rank_initial'] = df['player_match_rank_initial'].astype('category')\n",
    "df['player_id'] = df['player_id'].astype('int64')"
   ],
   "metadata": {
    "collapsed": false,
    "ExecuteTime": {
     "end_time": "2024-05-01T07:55:39.495377800Z",
     "start_time": "2024-05-01T07:55:39.449384300Z"
    }
   },
   "id": "62fc0705a6499b8a"
  },
  {
   "cell_type": "code",
   "execution_count": 3,
   "outputs": [
    {
     "data": {
      "text/plain": "      match_id   player_id  hero_id  player_q_mmr_diff  \\\n0   7398770906   363104336       54               -154   \n1   7398770906   204634639      100                154   \n2   7398770906   144595206       36               -462   \n3   7398770906   167763814       84               -308   \n4   7398770906  1514889200       85                  0   \n..         ...         ...      ...                ...   \n95  7418150617   385421629       76              -1371   \n96  7418150617   879201523      138                 15   \n97  7418150617   136311244      137               1401   \n98  7418150617   136561541       99                477   \n99  7418150617   136482827       48               -909   \n\n    player_hero_winrate_overall  player_hero_total_matches_played  \\\n0                     50.000000                                 4   \n1                     42.553192                                47   \n2                     52.252250                               333   \n3                     57.425743                               101   \n4                     58.695650                                46   \n..                          ...                               ...   \n95                    30.434780                                23   \n96                    59.375000                                64   \n97                    62.068963                                29   \n98                    28.571430                                21   \n99                    66.666670                                 6   \n\n    dire_winrate_all_time  dire_games_played_all_time  \\\n0               52.890176                         346   \n1               48.453608                         291   \n2               45.172307                        3221   \n3               47.641712                        2311   \n4               44.047618                         504   \n..                    ...                         ...   \n95              43.255815                         645   \n96              47.456214                        1199   \n97              46.631017                        1870   \n98              47.729987                        1674   \n99              46.111110                         720   \n\n    radiant_winrate_all_time  radiant_games_played_all_time  ...  \\\n0                  50.381680                            393  ...   \n1                  52.365930                            317  ...   \n2                  51.850670                           3134  ...   \n3                  51.565146                           2364  ...   \n4                  56.448203                            473  ...   \n..                       ...                            ...  ...   \n95                 48.826292                            639  ...   \n96                 54.567310                           1248  ...   \n97                 53.201133                           1765  ...   \n98                 52.736900                           1699  ...   \n99                 51.105650                            814  ...   \n\n    hero_pickrate_ancient  hero_winrate_ancient  \\\n0                 19.0338               54.9159   \n1                  6.1267               47.2815   \n2                  8.2786               49.4327   \n3                  9.6141               50.8513   \n4                  6.5329               52.2018   \n..                    ...                   ...   \n95                 6.7161               50.0457   \n96                 3.5713               45.5668   \n97                 5.2408               47.5735   \n98                 5.7045               50.0346   \n99                15.5833               49.7648   \n\n    hero_pickrate_divine_immortal  hero_winrate_divine_immortal  \\\n0                         19.3351                       53.8362   \n1                          7.5739                       48.2371   \n2                          5.0972                       47.9513   \n3                          6.1195                       49.6469   \n4                          6.5435                       50.8980   \n..                            ...                           ...   \n95                         6.1592                       49.4761   \n96                         3.6903                       47.0845   \n97                         7.0162                       49.2753   \n98                         5.3149                       50.0514   \n99                        19.0130                       49.8742   \n\n        match_datetime  match_radiant_win match_duration  match_radiant_score  \\\n0  2023-10-25 14:14:53              False           3175                   55   \n1  2023-10-25 14:14:53              False           3175                   55   \n2  2023-10-25 14:14:53              False           3175                   55   \n3  2023-10-25 14:14:53              False           3175                   55   \n4  2023-10-25 14:14:53              False           3175                   55   \n..                 ...                ...            ...                  ...   \n95 2023-11-04 17:03:13               True           1616                   39   \n96 2023-11-04 17:03:13               True           1616                   39   \n97 2023-11-04 17:03:13               True           1616                   39   \n98 2023-11-04 17:03:13               True           1616                   39   \n99 2023-11-04 17:03:13               True           1616                   39   \n\n    match_dire_score  player_match_rank_initial_mmr  \n0                 54                         1925.0  \n1                 54                         2233.0  \n2                 54                         1617.0  \n3                 54                         1771.0  \n4                 54                         2079.0  \n..               ...                            ...  \n95                17                          692.5  \n96                17                         2079.0  \n97                17                         3465.0  \n98                17                         2541.0  \n99                17                         1155.0  \n\n[100 rows x 64 columns]",
      "text/html": "<div>\n<style scoped>\n    .dataframe tbody tr th:only-of-type {\n        vertical-align: middle;\n    }\n\n    .dataframe tbody tr th {\n        vertical-align: top;\n    }\n\n    .dataframe thead th {\n        text-align: right;\n    }\n</style>\n<table border=\"1\" class=\"dataframe\">\n  <thead>\n    <tr style=\"text-align: right;\">\n      <th></th>\n      <th>match_id</th>\n      <th>player_id</th>\n      <th>hero_id</th>\n      <th>player_q_mmr_diff</th>\n      <th>player_hero_winrate_overall</th>\n      <th>player_hero_total_matches_played</th>\n      <th>dire_winrate_all_time</th>\n      <th>dire_games_played_all_time</th>\n      <th>radiant_winrate_all_time</th>\n      <th>radiant_games_played_all_time</th>\n      <th>...</th>\n      <th>hero_pickrate_ancient</th>\n      <th>hero_winrate_ancient</th>\n      <th>hero_pickrate_divine_immortal</th>\n      <th>hero_winrate_divine_immortal</th>\n      <th>match_datetime</th>\n      <th>match_radiant_win</th>\n      <th>match_duration</th>\n      <th>match_radiant_score</th>\n      <th>match_dire_score</th>\n      <th>player_match_rank_initial_mmr</th>\n    </tr>\n  </thead>\n  <tbody>\n    <tr>\n      <th>0</th>\n      <td>7398770906</td>\n      <td>363104336</td>\n      <td>54</td>\n      <td>-154</td>\n      <td>50.000000</td>\n      <td>4</td>\n      <td>52.890176</td>\n      <td>346</td>\n      <td>50.381680</td>\n      <td>393</td>\n      <td>...</td>\n      <td>19.0338</td>\n      <td>54.9159</td>\n      <td>19.3351</td>\n      <td>53.8362</td>\n      <td>2023-10-25 14:14:53</td>\n      <td>False</td>\n      <td>3175</td>\n      <td>55</td>\n      <td>54</td>\n      <td>1925.0</td>\n    </tr>\n    <tr>\n      <th>1</th>\n      <td>7398770906</td>\n      <td>204634639</td>\n      <td>100</td>\n      <td>154</td>\n      <td>42.553192</td>\n      <td>47</td>\n      <td>48.453608</td>\n      <td>291</td>\n      <td>52.365930</td>\n      <td>317</td>\n      <td>...</td>\n      <td>6.1267</td>\n      <td>47.2815</td>\n      <td>7.5739</td>\n      <td>48.2371</td>\n      <td>2023-10-25 14:14:53</td>\n      <td>False</td>\n      <td>3175</td>\n      <td>55</td>\n      <td>54</td>\n      <td>2233.0</td>\n    </tr>\n    <tr>\n      <th>2</th>\n      <td>7398770906</td>\n      <td>144595206</td>\n      <td>36</td>\n      <td>-462</td>\n      <td>52.252250</td>\n      <td>333</td>\n      <td>45.172307</td>\n      <td>3221</td>\n      <td>51.850670</td>\n      <td>3134</td>\n      <td>...</td>\n      <td>8.2786</td>\n      <td>49.4327</td>\n      <td>5.0972</td>\n      <td>47.9513</td>\n      <td>2023-10-25 14:14:53</td>\n      <td>False</td>\n      <td>3175</td>\n      <td>55</td>\n      <td>54</td>\n      <td>1617.0</td>\n    </tr>\n    <tr>\n      <th>3</th>\n      <td>7398770906</td>\n      <td>167763814</td>\n      <td>84</td>\n      <td>-308</td>\n      <td>57.425743</td>\n      <td>101</td>\n      <td>47.641712</td>\n      <td>2311</td>\n      <td>51.565146</td>\n      <td>2364</td>\n      <td>...</td>\n      <td>9.6141</td>\n      <td>50.8513</td>\n      <td>6.1195</td>\n      <td>49.6469</td>\n      <td>2023-10-25 14:14:53</td>\n      <td>False</td>\n      <td>3175</td>\n      <td>55</td>\n      <td>54</td>\n      <td>1771.0</td>\n    </tr>\n    <tr>\n      <th>4</th>\n      <td>7398770906</td>\n      <td>1514889200</td>\n      <td>85</td>\n      <td>0</td>\n      <td>58.695650</td>\n      <td>46</td>\n      <td>44.047618</td>\n      <td>504</td>\n      <td>56.448203</td>\n      <td>473</td>\n      <td>...</td>\n      <td>6.5329</td>\n      <td>52.2018</td>\n      <td>6.5435</td>\n      <td>50.8980</td>\n      <td>2023-10-25 14:14:53</td>\n      <td>False</td>\n      <td>3175</td>\n      <td>55</td>\n      <td>54</td>\n      <td>2079.0</td>\n    </tr>\n    <tr>\n      <th>...</th>\n      <td>...</td>\n      <td>...</td>\n      <td>...</td>\n      <td>...</td>\n      <td>...</td>\n      <td>...</td>\n      <td>...</td>\n      <td>...</td>\n      <td>...</td>\n      <td>...</td>\n      <td>...</td>\n      <td>...</td>\n      <td>...</td>\n      <td>...</td>\n      <td>...</td>\n      <td>...</td>\n      <td>...</td>\n      <td>...</td>\n      <td>...</td>\n      <td>...</td>\n      <td>...</td>\n    </tr>\n    <tr>\n      <th>95</th>\n      <td>7418150617</td>\n      <td>385421629</td>\n      <td>76</td>\n      <td>-1371</td>\n      <td>30.434780</td>\n      <td>23</td>\n      <td>43.255815</td>\n      <td>645</td>\n      <td>48.826292</td>\n      <td>639</td>\n      <td>...</td>\n      <td>6.7161</td>\n      <td>50.0457</td>\n      <td>6.1592</td>\n      <td>49.4761</td>\n      <td>2023-11-04 17:03:13</td>\n      <td>True</td>\n      <td>1616</td>\n      <td>39</td>\n      <td>17</td>\n      <td>692.5</td>\n    </tr>\n    <tr>\n      <th>96</th>\n      <td>7418150617</td>\n      <td>879201523</td>\n      <td>138</td>\n      <td>15</td>\n      <td>59.375000</td>\n      <td>64</td>\n      <td>47.456214</td>\n      <td>1199</td>\n      <td>54.567310</td>\n      <td>1248</td>\n      <td>...</td>\n      <td>3.5713</td>\n      <td>45.5668</td>\n      <td>3.6903</td>\n      <td>47.0845</td>\n      <td>2023-11-04 17:03:13</td>\n      <td>True</td>\n      <td>1616</td>\n      <td>39</td>\n      <td>17</td>\n      <td>2079.0</td>\n    </tr>\n    <tr>\n      <th>97</th>\n      <td>7418150617</td>\n      <td>136311244</td>\n      <td>137</td>\n      <td>1401</td>\n      <td>62.068963</td>\n      <td>29</td>\n      <td>46.631017</td>\n      <td>1870</td>\n      <td>53.201133</td>\n      <td>1765</td>\n      <td>...</td>\n      <td>5.2408</td>\n      <td>47.5735</td>\n      <td>7.0162</td>\n      <td>49.2753</td>\n      <td>2023-11-04 17:03:13</td>\n      <td>True</td>\n      <td>1616</td>\n      <td>39</td>\n      <td>17</td>\n      <td>3465.0</td>\n    </tr>\n    <tr>\n      <th>98</th>\n      <td>7418150617</td>\n      <td>136561541</td>\n      <td>99</td>\n      <td>477</td>\n      <td>28.571430</td>\n      <td>21</td>\n      <td>47.729987</td>\n      <td>1674</td>\n      <td>52.736900</td>\n      <td>1699</td>\n      <td>...</td>\n      <td>5.7045</td>\n      <td>50.0346</td>\n      <td>5.3149</td>\n      <td>50.0514</td>\n      <td>2023-11-04 17:03:13</td>\n      <td>True</td>\n      <td>1616</td>\n      <td>39</td>\n      <td>17</td>\n      <td>2541.0</td>\n    </tr>\n    <tr>\n      <th>99</th>\n      <td>7418150617</td>\n      <td>136482827</td>\n      <td>48</td>\n      <td>-909</td>\n      <td>66.666670</td>\n      <td>6</td>\n      <td>46.111110</td>\n      <td>720</td>\n      <td>51.105650</td>\n      <td>814</td>\n      <td>...</td>\n      <td>15.5833</td>\n      <td>49.7648</td>\n      <td>19.0130</td>\n      <td>49.8742</td>\n      <td>2023-11-04 17:03:13</td>\n      <td>True</td>\n      <td>1616</td>\n      <td>39</td>\n      <td>17</td>\n      <td>1155.0</td>\n    </tr>\n  </tbody>\n</table>\n<p>100 rows × 64 columns</p>\n</div>"
     },
     "execution_count": 3,
     "metadata": {},
     "output_type": "execute_result"
    }
   ],
   "source": [
    "df['player_match_rank_initial_mmr'] = df['player_match_rank_initial'].apply(transform_to_mmr)\n",
    "df['player_match_rank_initial_mmr'] = df['player_match_rank_initial_mmr'].astype('float64')\n",
    "\n",
    "\n",
    "winrate_columns = [col for col in df.columns if 'winrate' in col.lower() and 'hero' not in col.lower()]\n",
    "pickrate_columns = [col for col in df.columns if 'pickrate' in col.lower() and 'hero' not in col.lower()]\n",
    "\n",
    "df[winrate_columns] *= 100\n",
    "df[pickrate_columns] *= 100\n",
    "\n",
    "df['player_hero_winrate_overall'] *= 100\n",
    "\n",
    "df.head(100)"
   ],
   "metadata": {
    "collapsed": false,
    "ExecuteTime": {
     "end_time": "2024-05-01T07:55:39.541275400Z",
     "start_time": "2024-05-01T07:55:39.498374900Z"
    }
   },
   "id": "b4c0768c91faa10d"
  },
  {
   "cell_type": "code",
   "execution_count": 4,
   "outputs": [
    {
     "name": "stderr",
     "output_type": "stream",
     "text": [
      "C:\\Users\\nicky\\AppData\\Local\\Temp\\ipykernel_19112\\1974297312.py:16: DeprecationWarning: DataFrameGroupBy.apply operated on the grouping columns. This behavior is deprecated, and in a future version of pandas the grouping columns will be excluded from the operation. Either pass `include_groups=False` to exclude the groupings or explicitly select the grouping columns after groupby to silence this warning.\n",
      "  df_with_pickrate = df.groupby('match_id').apply(get_hero_pickrate_winrate_for_rank)\n",
      "C:\\Users\\nicky\\AppData\\Local\\Temp\\ipykernel_19112\\1974297312.py:24: FutureWarning: The default of observed=False is deprecated and will be changed to True in a future version of pandas. Pass observed=False to retain current behavior or observed=True to adopt the future default and silence this warning.\n",
      "  df_with_pickrate['has_team_won'] = df_with_pickrate.groupby(['match_id', 'player_side'])['player_has_won'].transform('first')\n"
     ]
    }
   ],
   "source": [
    "def get_hero_pickrate_winrate_for_rank(group):\n",
    "    closest_player_idx = group['player_q_mmr_diff'].abs().idxmin()\n",
    "\n",
    "    closest_player_rank = group.loc[closest_player_idx, 'player_match_rank_initial'].split(' ')[0]\n",
    "    \n",
    "    if closest_player_rank.lower() in ['herald', 'guardian', 'crusader']:\n",
    "      closest_player_rank = 'up_to_crusader'\n",
    "\n",
    "    pickrate_column = f'hero_pickrate_{closest_player_rank.lower()}'\n",
    "    winrate_column = f'hero_winrate_{closest_player_rank.lower()}'\n",
    "    group['hero_pickrate_for_rank'] = group[pickrate_column]\n",
    "    group['hero_winrate_for_rank'] = group[winrate_column]\n",
    "    \n",
    "    return group\n",
    "\n",
    "df_with_pickrate = df.groupby('match_id').apply(get_hero_pickrate_winrate_for_rank)\n",
    "\n",
    "df_with_pickrate['player_heroes_pick_confidence_score_total'] = df_with_pickrate['player_heroes_pick_confidence_score_allies'] + df_with_pickrate['player_heroes_pick_confidence_score_enemies']\n",
    "df_with_pickrate['player_matches_abandonment_rate'] = (df_with_pickrate['player_matches_abandoned'] / df_with_pickrate['player_all_matches_played_number']) * 100\n",
    "\n",
    "\n",
    "df_with_pickrate.reset_index(drop=True, inplace=True)\n",
    "\n",
    "df_with_pickrate['has_team_won'] = df_with_pickrate.groupby(['match_id', 'player_side'])['player_has_won'].transform('first')"
   ],
   "metadata": {
    "collapsed": false,
    "ExecuteTime": {
     "end_time": "2024-05-01T07:55:45.238867100Z",
     "start_time": "2024-05-01T07:55:39.542279600Z"
    }
   },
   "id": "48f2c5cfc1c7598c"
  },
  {
   "cell_type": "code",
   "execution_count": 5,
   "outputs": [
    {
     "data": {
      "text/plain": "      match_id   player_id  hero_id  player_q_mmr_diff  \\\n0   7393139706   168352898      103               -631   \n1   7393139706   299921151       74                139   \n2   7393139706   356518944        7               -785   \n3   7393139706   132549973      104                139   \n4   7393139706  1034923441       70                601   \n..         ...         ...      ...                ...   \n95  7393596207   318590696       21               -770   \n96  7393596207  1225720384       54                462   \n97  7393596207   407552781        2                154   \n98  7393596207   156932492       83                  0   \n99  7393596207   206794437       14               -770   \n\n    player_hero_winrate_overall  player_hero_total_matches_played  \\\n0                      0.000000                                 5   \n1                     44.000000                                25   \n2                     65.517240                                29   \n3                     66.666670                                39   \n4                     59.375000                                32   \n..                          ...                               ...   \n95                    68.421054                                57   \n96                    44.444445                                 9   \n97                    63.157890                                19   \n98                    65.372170                               309   \n99                    54.000000                               100   \n\n    dire_winrate_all_time  dire_games_played_all_time  \\\n0               47.937410                        1406   \n1               57.120000                        1250   \n2               57.670456                         352   \n3               49.499545                        1099   \n4               49.844238                        1284   \n..                    ...                         ...   \n95              54.566210                         438   \n96              48.876405                         712   \n97              47.140960                        1504   \n98              48.115440                        4643   \n99              49.399656                        2915   \n\n    radiant_winrate_all_time  radiant_games_played_all_time  ...  \\\n0                  52.932550                           1364  ...   \n1                  57.441860                           1290  ...   \n2                  55.466664                            375  ...   \n3                  54.900180                           1102  ...   \n4                  52.788390                           1309  ...   \n..                       ...                            ...  ...   \n95                 57.049894                            461  ...   \n96                 56.133336                            750  ...   \n97                 55.423373                           1429  ...   \n98                 53.328866                           4476  ...   \n99                 55.543554                           2778  ...   \n\n    match_radiant_win  match_duration  match_radiant_score  match_dire_score  \\\n0               False            3368                   41                48   \n1               False            3368                   41                48   \n2               False            3368                   41                48   \n3               False            3368                   41                48   \n4               False            3368                   41                48   \n..                ...             ...                  ...               ...   \n95               True            2894                   54                50   \n96               True            2894                   54                50   \n97               True            2894                   54                50   \n98               True            2894                   54                50   \n99               True            2894                   54                50   \n\n    player_match_rank_initial_mmr  hero_pickrate_for_rank  \\\n0                          2233.0                  1.3819   \n1                          3003.0                 17.7897   \n2                          2079.0                 11.1720   \n3                          3003.0                 14.1323   \n4                          3465.0                  7.4670   \n..                            ...                     ...   \n95                         2079.0                 11.8661   \n96                         3311.0                 16.2930   \n97                         3003.0                 18.7621   \n98                         2849.0                  4.4050   \n99                         2079.0                 29.5188   \n\n   hero_winrate_for_rank  player_heroes_pick_confidence_score_total  \\\n0                50.2281                                          0   \n1                46.7979                                          0   \n2                49.9146                                          0   \n3                49.7264                                          0   \n4                49.4052                                          0   \n..                   ...                                        ...   \n95               46.7467                                          0   \n96               53.9691                                          0   \n97               53.5622                                          1   \n98               52.3476                                          2   \n99               50.5207                                          0   \n\n    player_matches_abandonment_rate  has_team_won  \n0                          1.752190         False  \n1                          1.633554         False  \n2                          0.434153         False  \n3                          5.283505         False  \n4                          0.319872         False  \n..                              ...           ...  \n95                         0.455927         False  \n96                         0.392157         False  \n97                         0.937346         False  \n98                         3.575990         False  \n99                         1.880485         False  \n\n[100 rows x 69 columns]",
      "text/html": "<div>\n<style scoped>\n    .dataframe tbody tr th:only-of-type {\n        vertical-align: middle;\n    }\n\n    .dataframe tbody tr th {\n        vertical-align: top;\n    }\n\n    .dataframe thead th {\n        text-align: right;\n    }\n</style>\n<table border=\"1\" class=\"dataframe\">\n  <thead>\n    <tr style=\"text-align: right;\">\n      <th></th>\n      <th>match_id</th>\n      <th>player_id</th>\n      <th>hero_id</th>\n      <th>player_q_mmr_diff</th>\n      <th>player_hero_winrate_overall</th>\n      <th>player_hero_total_matches_played</th>\n      <th>dire_winrate_all_time</th>\n      <th>dire_games_played_all_time</th>\n      <th>radiant_winrate_all_time</th>\n      <th>radiant_games_played_all_time</th>\n      <th>...</th>\n      <th>match_radiant_win</th>\n      <th>match_duration</th>\n      <th>match_radiant_score</th>\n      <th>match_dire_score</th>\n      <th>player_match_rank_initial_mmr</th>\n      <th>hero_pickrate_for_rank</th>\n      <th>hero_winrate_for_rank</th>\n      <th>player_heroes_pick_confidence_score_total</th>\n      <th>player_matches_abandonment_rate</th>\n      <th>has_team_won</th>\n    </tr>\n  </thead>\n  <tbody>\n    <tr>\n      <th>0</th>\n      <td>7393139706</td>\n      <td>168352898</td>\n      <td>103</td>\n      <td>-631</td>\n      <td>0.000000</td>\n      <td>5</td>\n      <td>47.937410</td>\n      <td>1406</td>\n      <td>52.932550</td>\n      <td>1364</td>\n      <td>...</td>\n      <td>False</td>\n      <td>3368</td>\n      <td>41</td>\n      <td>48</td>\n      <td>2233.0</td>\n      <td>1.3819</td>\n      <td>50.2281</td>\n      <td>0</td>\n      <td>1.752190</td>\n      <td>False</td>\n    </tr>\n    <tr>\n      <th>1</th>\n      <td>7393139706</td>\n      <td>299921151</td>\n      <td>74</td>\n      <td>139</td>\n      <td>44.000000</td>\n      <td>25</td>\n      <td>57.120000</td>\n      <td>1250</td>\n      <td>57.441860</td>\n      <td>1290</td>\n      <td>...</td>\n      <td>False</td>\n      <td>3368</td>\n      <td>41</td>\n      <td>48</td>\n      <td>3003.0</td>\n      <td>17.7897</td>\n      <td>46.7979</td>\n      <td>0</td>\n      <td>1.633554</td>\n      <td>False</td>\n    </tr>\n    <tr>\n      <th>2</th>\n      <td>7393139706</td>\n      <td>356518944</td>\n      <td>7</td>\n      <td>-785</td>\n      <td>65.517240</td>\n      <td>29</td>\n      <td>57.670456</td>\n      <td>352</td>\n      <td>55.466664</td>\n      <td>375</td>\n      <td>...</td>\n      <td>False</td>\n      <td>3368</td>\n      <td>41</td>\n      <td>48</td>\n      <td>2079.0</td>\n      <td>11.1720</td>\n      <td>49.9146</td>\n      <td>0</td>\n      <td>0.434153</td>\n      <td>False</td>\n    </tr>\n    <tr>\n      <th>3</th>\n      <td>7393139706</td>\n      <td>132549973</td>\n      <td>104</td>\n      <td>139</td>\n      <td>66.666670</td>\n      <td>39</td>\n      <td>49.499545</td>\n      <td>1099</td>\n      <td>54.900180</td>\n      <td>1102</td>\n      <td>...</td>\n      <td>False</td>\n      <td>3368</td>\n      <td>41</td>\n      <td>48</td>\n      <td>3003.0</td>\n      <td>14.1323</td>\n      <td>49.7264</td>\n      <td>0</td>\n      <td>5.283505</td>\n      <td>False</td>\n    </tr>\n    <tr>\n      <th>4</th>\n      <td>7393139706</td>\n      <td>1034923441</td>\n      <td>70</td>\n      <td>601</td>\n      <td>59.375000</td>\n      <td>32</td>\n      <td>49.844238</td>\n      <td>1284</td>\n      <td>52.788390</td>\n      <td>1309</td>\n      <td>...</td>\n      <td>False</td>\n      <td>3368</td>\n      <td>41</td>\n      <td>48</td>\n      <td>3465.0</td>\n      <td>7.4670</td>\n      <td>49.4052</td>\n      <td>0</td>\n      <td>0.319872</td>\n      <td>False</td>\n    </tr>\n    <tr>\n      <th>...</th>\n      <td>...</td>\n      <td>...</td>\n      <td>...</td>\n      <td>...</td>\n      <td>...</td>\n      <td>...</td>\n      <td>...</td>\n      <td>...</td>\n      <td>...</td>\n      <td>...</td>\n      <td>...</td>\n      <td>...</td>\n      <td>...</td>\n      <td>...</td>\n      <td>...</td>\n      <td>...</td>\n      <td>...</td>\n      <td>...</td>\n      <td>...</td>\n      <td>...</td>\n      <td>...</td>\n    </tr>\n    <tr>\n      <th>95</th>\n      <td>7393596207</td>\n      <td>318590696</td>\n      <td>21</td>\n      <td>-770</td>\n      <td>68.421054</td>\n      <td>57</td>\n      <td>54.566210</td>\n      <td>438</td>\n      <td>57.049894</td>\n      <td>461</td>\n      <td>...</td>\n      <td>True</td>\n      <td>2894</td>\n      <td>54</td>\n      <td>50</td>\n      <td>2079.0</td>\n      <td>11.8661</td>\n      <td>46.7467</td>\n      <td>0</td>\n      <td>0.455927</td>\n      <td>False</td>\n    </tr>\n    <tr>\n      <th>96</th>\n      <td>7393596207</td>\n      <td>1225720384</td>\n      <td>54</td>\n      <td>462</td>\n      <td>44.444445</td>\n      <td>9</td>\n      <td>48.876405</td>\n      <td>712</td>\n      <td>56.133336</td>\n      <td>750</td>\n      <td>...</td>\n      <td>True</td>\n      <td>2894</td>\n      <td>54</td>\n      <td>50</td>\n      <td>3311.0</td>\n      <td>16.2930</td>\n      <td>53.9691</td>\n      <td>0</td>\n      <td>0.392157</td>\n      <td>False</td>\n    </tr>\n    <tr>\n      <th>97</th>\n      <td>7393596207</td>\n      <td>407552781</td>\n      <td>2</td>\n      <td>154</td>\n      <td>63.157890</td>\n      <td>19</td>\n      <td>47.140960</td>\n      <td>1504</td>\n      <td>55.423373</td>\n      <td>1429</td>\n      <td>...</td>\n      <td>True</td>\n      <td>2894</td>\n      <td>54</td>\n      <td>50</td>\n      <td>3003.0</td>\n      <td>18.7621</td>\n      <td>53.5622</td>\n      <td>1</td>\n      <td>0.937346</td>\n      <td>False</td>\n    </tr>\n    <tr>\n      <th>98</th>\n      <td>7393596207</td>\n      <td>156932492</td>\n      <td>83</td>\n      <td>0</td>\n      <td>65.372170</td>\n      <td>309</td>\n      <td>48.115440</td>\n      <td>4643</td>\n      <td>53.328866</td>\n      <td>4476</td>\n      <td>...</td>\n      <td>True</td>\n      <td>2894</td>\n      <td>54</td>\n      <td>50</td>\n      <td>2849.0</td>\n      <td>4.4050</td>\n      <td>52.3476</td>\n      <td>2</td>\n      <td>3.575990</td>\n      <td>False</td>\n    </tr>\n    <tr>\n      <th>99</th>\n      <td>7393596207</td>\n      <td>206794437</td>\n      <td>14</td>\n      <td>-770</td>\n      <td>54.000000</td>\n      <td>100</td>\n      <td>49.399656</td>\n      <td>2915</td>\n      <td>55.543554</td>\n      <td>2778</td>\n      <td>...</td>\n      <td>True</td>\n      <td>2894</td>\n      <td>54</td>\n      <td>50</td>\n      <td>2079.0</td>\n      <td>29.5188</td>\n      <td>50.5207</td>\n      <td>0</td>\n      <td>1.880485</td>\n      <td>False</td>\n    </tr>\n  </tbody>\n</table>\n<p>100 rows × 69 columns</p>\n</div>"
     },
     "execution_count": 5,
     "metadata": {},
     "output_type": "execute_result"
    }
   ],
   "source": [
    "df_with_pickrate.head(100)"
   ],
   "metadata": {
    "collapsed": false,
    "ExecuteTime": {
     "end_time": "2024-05-01T07:55:45.311040600Z",
     "start_time": "2024-05-01T07:55:45.230854600Z"
    }
   },
   "id": "ce94fd5a383220c6"
  },
  {
   "cell_type": "code",
   "execution_count": 6,
   "outputs": [
    {
     "data": {
      "text/plain": "       player_q_mmr_diff  player_hero_winrate_overall  \\\ncount       42100.000000                 42100.000000   \nmean           -0.002993                    51.282409   \nstd           664.032867                    11.766337   \nmin         -2635.000000                     0.000000   \n25%          -416.000000                    46.000000   \n50%           -31.000000                    51.685390   \n75%           416.000000                    57.142860   \nmax          3172.000000                   100.000000   \n\n       player_hero_total_matches_played  dire_winrate_all_time  \\\ncount                      42100.000000           42100.000000   \nmean                         112.025677              47.608343   \nstd                          215.277311               2.632630   \nmin                            1.000000              16.666667   \n25%                           22.000000              46.086619   \n50%                           51.000000              47.330353   \n75%                          116.000000              48.818317   \nmax                         7250.000000              81.818180   \n\n       dire_games_played_all_time  radiant_winrate_all_time  \\\ncount                42100.000000              42100.000000   \nmean                  1626.302138                 53.308479   \nstd                   1180.214991                  2.664362   \nmin                      6.000000                 28.571430   \n25%                    738.000000                 51.829972   \n50%                   1369.000000                 53.106576   \n75%                   2236.000000                 54.545456   \nmax                  15156.000000                 81.506850   \n\n       radiant_games_played_all_time  \\\ncount                   42100.000000   \nmean                     1625.710974   \nstd                      1179.080342   \nmin                         7.000000   \n25%                       736.000000   \n50%                      1369.000000   \n75%                      2241.000000   \nmax                     15377.000000   \n\n       player_heroes_pick_confidence_score_allies  \\\ncount                                42100.000000   \nmean                                     0.060285   \nstd                                      0.814180   \nmin                                     -4.000000   \n25%                                      0.000000   \n50%                                      0.000000   \n75%                                      0.000000   \nmax                                      5.000000   \n\n       player_heroes_pick_confidence_score_enemies  \\\ncount                                 42100.000000   \nmean                                      0.068931   \nstd                                       1.359543   \nmin                                      -6.000000   \n25%                                      -1.000000   \n50%                                       0.000000   \n75%                                       1.000000   \nmax                                       9.000000   \n\n       player_time_played_all_matches  ...  \\\ncount                    4.210000e+04  ...   \nmean                     8.061033e+06  ...   \nstd                      5.854762e+06  ...   \nmin                      3.180700e+04  ...   \n25%                      3.632462e+06  ...   \n50%                      6.784253e+06  ...   \n75%                      1.110377e+07  ...   \nmax                      7.661488e+07  ...   \n\n       player_hero_damage_average_all_matches  \\\ncount                            42100.000000   \nmean                             23356.802936   \nstd                               6465.874590   \nmin                               8510.794000   \n25%                              20210.308250   \n50%                              23146.551000   \n75%                              26223.828250   \nmax                             932722.440000   \n\n       player_tower_damage_average_all_matches  \\\ncount                             42100.000000   \nmean                               2682.087038   \nstd                                1071.183970   \nmin                                 289.058840   \n25%                                1911.763125   \n50%                                2545.683350   \n75%                                3285.868750   \nmax                                9858.976000   \n\n       player_hero_healing_average_all_matches  hero_pickrate_average  \\\ncount                             42100.000000           42100.000000   \nmean                                869.251196              10.528974   \nstd                                 518.474158               5.291055   \nmin                                   0.000000               1.271280   \n25%                                 567.622202               6.681380   \n50%                                 758.883455               9.508720   \n75%                                1024.871325              13.175980   \nmax                               10920.932000              28.757380   \n\n       hero_winrate_average  player_match_rank_initial_mmr  \\\ncount          42100.000000                   42100.000000   \nmean              49.841891                    2655.786390   \nstd                2.197483                     737.244701   \nmin               43.877400                      77.500000   \n25%               47.889340                    2233.000000   \n50%               49.921240                    2695.000000   \n75%               51.453660                    3157.000000   \nmax               54.907300                    5621.000000   \n\n       hero_pickrate_for_rank  hero_winrate_for_rank  \\\ncount            42100.000000           42100.000000   \nmean                11.008307              49.937926   \nstd                  5.921863               2.626255   \nmin                  0.810500              41.840900   \n25%                  6.836300              47.717600   \n50%                  9.915000              50.038400   \n75%                 14.184700              52.124600   \nmax                 29.932700              55.537800   \n\n       player_heroes_pick_confidence_score_total  \\\ncount                               42100.000000   \nmean                                    0.129216   \nstd                                     1.718393   \nmin                                    -8.000000   \n25%                                    -1.000000   \n50%                                     0.000000   \n75%                                     1.000000   \nmax                                    14.000000   \n\n       player_matches_abandonment_rate  \ncount                     42100.000000  \nmean                          1.432761  \nstd                           1.689259  \nmin                           0.000000  \n25%                           0.535380  \n50%                           1.008742  \n75%                           1.769088  \nmax                          71.830986  \n\n[8 rows x 44 columns]",
      "text/html": "<div>\n<style scoped>\n    .dataframe tbody tr th:only-of-type {\n        vertical-align: middle;\n    }\n\n    .dataframe tbody tr th {\n        vertical-align: top;\n    }\n\n    .dataframe thead th {\n        text-align: right;\n    }\n</style>\n<table border=\"1\" class=\"dataframe\">\n  <thead>\n    <tr style=\"text-align: right;\">\n      <th></th>\n      <th>player_q_mmr_diff</th>\n      <th>player_hero_winrate_overall</th>\n      <th>player_hero_total_matches_played</th>\n      <th>dire_winrate_all_time</th>\n      <th>dire_games_played_all_time</th>\n      <th>radiant_winrate_all_time</th>\n      <th>radiant_games_played_all_time</th>\n      <th>player_heroes_pick_confidence_score_allies</th>\n      <th>player_heroes_pick_confidence_score_enemies</th>\n      <th>player_time_played_all_matches</th>\n      <th>...</th>\n      <th>player_hero_damage_average_all_matches</th>\n      <th>player_tower_damage_average_all_matches</th>\n      <th>player_hero_healing_average_all_matches</th>\n      <th>hero_pickrate_average</th>\n      <th>hero_winrate_average</th>\n      <th>player_match_rank_initial_mmr</th>\n      <th>hero_pickrate_for_rank</th>\n      <th>hero_winrate_for_rank</th>\n      <th>player_heroes_pick_confidence_score_total</th>\n      <th>player_matches_abandonment_rate</th>\n    </tr>\n  </thead>\n  <tbody>\n    <tr>\n      <th>count</th>\n      <td>42100.000000</td>\n      <td>42100.000000</td>\n      <td>42100.000000</td>\n      <td>42100.000000</td>\n      <td>42100.000000</td>\n      <td>42100.000000</td>\n      <td>42100.000000</td>\n      <td>42100.000000</td>\n      <td>42100.000000</td>\n      <td>4.210000e+04</td>\n      <td>...</td>\n      <td>42100.000000</td>\n      <td>42100.000000</td>\n      <td>42100.000000</td>\n      <td>42100.000000</td>\n      <td>42100.000000</td>\n      <td>42100.000000</td>\n      <td>42100.000000</td>\n      <td>42100.000000</td>\n      <td>42100.000000</td>\n      <td>42100.000000</td>\n    </tr>\n    <tr>\n      <th>mean</th>\n      <td>-0.002993</td>\n      <td>51.282409</td>\n      <td>112.025677</td>\n      <td>47.608343</td>\n      <td>1626.302138</td>\n      <td>53.308479</td>\n      <td>1625.710974</td>\n      <td>0.060285</td>\n      <td>0.068931</td>\n      <td>8.061033e+06</td>\n      <td>...</td>\n      <td>23356.802936</td>\n      <td>2682.087038</td>\n      <td>869.251196</td>\n      <td>10.528974</td>\n      <td>49.841891</td>\n      <td>2655.786390</td>\n      <td>11.008307</td>\n      <td>49.937926</td>\n      <td>0.129216</td>\n      <td>1.432761</td>\n    </tr>\n    <tr>\n      <th>std</th>\n      <td>664.032867</td>\n      <td>11.766337</td>\n      <td>215.277311</td>\n      <td>2.632630</td>\n      <td>1180.214991</td>\n      <td>2.664362</td>\n      <td>1179.080342</td>\n      <td>0.814180</td>\n      <td>1.359543</td>\n      <td>5.854762e+06</td>\n      <td>...</td>\n      <td>6465.874590</td>\n      <td>1071.183970</td>\n      <td>518.474158</td>\n      <td>5.291055</td>\n      <td>2.197483</td>\n      <td>737.244701</td>\n      <td>5.921863</td>\n      <td>2.626255</td>\n      <td>1.718393</td>\n      <td>1.689259</td>\n    </tr>\n    <tr>\n      <th>min</th>\n      <td>-2635.000000</td>\n      <td>0.000000</td>\n      <td>1.000000</td>\n      <td>16.666667</td>\n      <td>6.000000</td>\n      <td>28.571430</td>\n      <td>7.000000</td>\n      <td>-4.000000</td>\n      <td>-6.000000</td>\n      <td>3.180700e+04</td>\n      <td>...</td>\n      <td>8510.794000</td>\n      <td>289.058840</td>\n      <td>0.000000</td>\n      <td>1.271280</td>\n      <td>43.877400</td>\n      <td>77.500000</td>\n      <td>0.810500</td>\n      <td>41.840900</td>\n      <td>-8.000000</td>\n      <td>0.000000</td>\n    </tr>\n    <tr>\n      <th>25%</th>\n      <td>-416.000000</td>\n      <td>46.000000</td>\n      <td>22.000000</td>\n      <td>46.086619</td>\n      <td>738.000000</td>\n      <td>51.829972</td>\n      <td>736.000000</td>\n      <td>0.000000</td>\n      <td>-1.000000</td>\n      <td>3.632462e+06</td>\n      <td>...</td>\n      <td>20210.308250</td>\n      <td>1911.763125</td>\n      <td>567.622202</td>\n      <td>6.681380</td>\n      <td>47.889340</td>\n      <td>2233.000000</td>\n      <td>6.836300</td>\n      <td>47.717600</td>\n      <td>-1.000000</td>\n      <td>0.535380</td>\n    </tr>\n    <tr>\n      <th>50%</th>\n      <td>-31.000000</td>\n      <td>51.685390</td>\n      <td>51.000000</td>\n      <td>47.330353</td>\n      <td>1369.000000</td>\n      <td>53.106576</td>\n      <td>1369.000000</td>\n      <td>0.000000</td>\n      <td>0.000000</td>\n      <td>6.784253e+06</td>\n      <td>...</td>\n      <td>23146.551000</td>\n      <td>2545.683350</td>\n      <td>758.883455</td>\n      <td>9.508720</td>\n      <td>49.921240</td>\n      <td>2695.000000</td>\n      <td>9.915000</td>\n      <td>50.038400</td>\n      <td>0.000000</td>\n      <td>1.008742</td>\n    </tr>\n    <tr>\n      <th>75%</th>\n      <td>416.000000</td>\n      <td>57.142860</td>\n      <td>116.000000</td>\n      <td>48.818317</td>\n      <td>2236.000000</td>\n      <td>54.545456</td>\n      <td>2241.000000</td>\n      <td>0.000000</td>\n      <td>1.000000</td>\n      <td>1.110377e+07</td>\n      <td>...</td>\n      <td>26223.828250</td>\n      <td>3285.868750</td>\n      <td>1024.871325</td>\n      <td>13.175980</td>\n      <td>51.453660</td>\n      <td>3157.000000</td>\n      <td>14.184700</td>\n      <td>52.124600</td>\n      <td>1.000000</td>\n      <td>1.769088</td>\n    </tr>\n    <tr>\n      <th>max</th>\n      <td>3172.000000</td>\n      <td>100.000000</td>\n      <td>7250.000000</td>\n      <td>81.818180</td>\n      <td>15156.000000</td>\n      <td>81.506850</td>\n      <td>15377.000000</td>\n      <td>5.000000</td>\n      <td>9.000000</td>\n      <td>7.661488e+07</td>\n      <td>...</td>\n      <td>932722.440000</td>\n      <td>9858.976000</td>\n      <td>10920.932000</td>\n      <td>28.757380</td>\n      <td>54.907300</td>\n      <td>5621.000000</td>\n      <td>29.932700</td>\n      <td>55.537800</td>\n      <td>14.000000</td>\n      <td>71.830986</td>\n    </tr>\n  </tbody>\n</table>\n<p>8 rows × 44 columns</p>\n</div>"
     },
     "execution_count": 6,
     "metadata": {},
     "output_type": "execute_result"
    }
   ],
   "source": [
    "df = df_with_pickrate.drop(columns=['match_datetime', 'hero_id', 'player_nickname', 'player_match_rank_initial', 'average_match_mmr', 'match_id', 'player_id', 'player_has_won', 'match_radiant_win', 'match_duration', 'match_radiant_score', 'match_dire_score', 'player_side', 'hero_name_local', 'has_team_won', 'hero_pickrate_up_to_crusader', 'hero_winrate_up_to_crusader', 'hero_pickrate_archon', 'hero_winrate_archon', 'hero_pickrate_legend', 'hero_winrate_legend', \n",
    "                                    'hero_pickrate_ancient', 'hero_winrate_ancient', 'hero_pickrate_divine_immortal', 'hero_winrate_divine_immortal'])\n",
    "\n",
    "df.describe()"
   ],
   "metadata": {
    "collapsed": false,
    "ExecuteTime": {
     "end_time": "2024-05-01T07:55:45.460043Z",
     "start_time": "2024-05-01T07:55:45.286988900Z"
    }
   },
   "id": "a01e09dc357de34d"
  },
  {
   "cell_type": "code",
   "execution_count": 7,
   "outputs": [
    {
     "data": {
      "text/plain": "   player_q_mmr_diff  player_hero_winrate_overall  \\\n0               -631                     0.000000   \n1                139                    44.000000   \n2               -785                    65.517240   \n3                139                    66.666670   \n4                601                    59.375000   \n5               -477                    62.264150   \n6               -323                    27.272728   \n7                755                    41.176470   \n8                601                    50.684930   \n9                -15                    55.670100   \n\n   player_hero_total_matches_played  dire_winrate_all_time  \\\n0                                 5              47.937410   \n1                                25              57.120000   \n2                                29              57.670456   \n3                                39              49.499545   \n4                                32              49.844238   \n5                               106              46.742857   \n6                                11              48.480000   \n7                                34              50.423920   \n8                                73              47.902870   \n9                                97              51.094890   \n\n   dire_games_played_all_time  radiant_winrate_all_time  \\\n0                        1406                 52.932550   \n1                        1250                 57.441860   \n2                         352                 55.466664   \n3                        1099                 54.900180   \n4                        1284                 52.788390   \n5                         875                 52.662724   \n6                        1250                 51.566470   \n7                        2241                 51.577955   \n8                        3171                 52.808990   \n9                        1918                 51.021504   \n\n   radiant_games_played_all_time  player_heroes_pick_confidence_score_allies  \\\n0                           1364                                           0   \n1                           1290                                           0   \n2                            375                                           0   \n3                           1102                                           0   \n4                           1309                                           0   \n5                            845                                           1   \n6                           1181                                           1   \n7                           2123                                           1   \n8                           3204                                           1   \n9                           1860                                           0   \n\n   player_heroes_pick_confidence_score_enemies  \\\n0                                            0   \n1                                            0   \n2                                            0   \n3                                            0   \n4                                            0   \n5                                            0   \n6                                            0   \n7                                            0   \n8                                            0   \n9                                            1   \n\n   player_time_played_all_matches  ...  \\\n0                         6606301  ...   \n1                         6144606  ...   \n2                         1838111  ...   \n3                         5247812  ...   \n4                         6457179  ...   \n5                         4258488  ...   \n6                         5937946  ...   \n7                        10538873  ...   \n8                        15674693  ...   \n9                         9263806  ...   \n\n   player_hero_damage_average_all_matches  \\\n0                               27282.379   \n1                               27830.834   \n2                               15426.104   \n3                               26371.805   \n4                               22130.459   \n5                               25070.113   \n6                               28541.140   \n7                               25304.502   \n8                               25427.800   \n9                               26473.541   \n\n   player_tower_damage_average_all_matches  \\\n0                                3840.0867   \n1                                3779.7305   \n2                                 890.8892   \n3                                4444.6070   \n4                                2527.6013   \n5                                2954.2983   \n6                                2986.3167   \n7                                3413.4014   \n8                                2425.9143   \n9                                3892.5752   \n\n   player_hero_healing_average_all_matches  hero_pickrate_average  \\\n0                                189.48804                1.65384   \n1                                665.06130               16.13098   \n2                               1380.35660               11.20572   \n3                               1363.43500               12.08786   \n4                                812.32550                8.01404   \n5                               1113.50820               16.88724   \n6                                588.93910                8.46242   \n7                               1398.35380                9.50872   \n8                                961.92395                9.74936   \n9                                754.53485               17.28832   \n\n   hero_winrate_average  player_match_rank_initial_mmr  \\\n0              50.79214                         2233.0   \n1              47.44248                         3003.0   \n2              50.51110                         2079.0   \n3              49.25336                         3003.0   \n4              49.80836                         3465.0   \n5              49.62226                         2387.0   \n6              49.90816                         2541.0   \n7              52.06560                         3619.0   \n8              47.35170                         3465.0   \n9              53.77350                         2849.0   \n\n   hero_pickrate_for_rank  hero_winrate_for_rank  \\\n0                  1.3819                50.2281   \n1                 17.7897                46.7979   \n2                 11.1720                49.9146   \n3                 14.1323                49.7264   \n4                  7.4670                49.4052   \n5                 16.4077                49.5248   \n6                  8.4002                50.3744   \n7                  8.5947                52.3047   \n8                  8.8040                46.9220   \n9                 16.2930                53.9691   \n\n   player_heroes_pick_confidence_score_total  player_matches_abandonment_rate  \n0                                          0                         1.752190  \n1                                          0                         1.633554  \n2                                          0                         0.434153  \n3                                          0                         5.283505  \n4                                          0                         0.319872  \n5                                          1                         1.498929  \n6                                          1                         1.272149  \n7                                          1                         0.800971  \n8                                          1                         1.350640  \n9                                          1                         1.644737  \n\n[10 rows x 36 columns]",
      "text/html": "<div>\n<style scoped>\n    .dataframe tbody tr th:only-of-type {\n        vertical-align: middle;\n    }\n\n    .dataframe tbody tr th {\n        vertical-align: top;\n    }\n\n    .dataframe thead th {\n        text-align: right;\n    }\n</style>\n<table border=\"1\" class=\"dataframe\">\n  <thead>\n    <tr style=\"text-align: right;\">\n      <th></th>\n      <th>player_q_mmr_diff</th>\n      <th>player_hero_winrate_overall</th>\n      <th>player_hero_total_matches_played</th>\n      <th>dire_winrate_all_time</th>\n      <th>dire_games_played_all_time</th>\n      <th>radiant_winrate_all_time</th>\n      <th>radiant_games_played_all_time</th>\n      <th>player_heroes_pick_confidence_score_allies</th>\n      <th>player_heroes_pick_confidence_score_enemies</th>\n      <th>player_time_played_all_matches</th>\n      <th>...</th>\n      <th>player_hero_damage_average_all_matches</th>\n      <th>player_tower_damage_average_all_matches</th>\n      <th>player_hero_healing_average_all_matches</th>\n      <th>hero_pickrate_average</th>\n      <th>hero_winrate_average</th>\n      <th>player_match_rank_initial_mmr</th>\n      <th>hero_pickrate_for_rank</th>\n      <th>hero_winrate_for_rank</th>\n      <th>player_heroes_pick_confidence_score_total</th>\n      <th>player_matches_abandonment_rate</th>\n    </tr>\n  </thead>\n  <tbody>\n    <tr>\n      <th>0</th>\n      <td>-631</td>\n      <td>0.000000</td>\n      <td>5</td>\n      <td>47.937410</td>\n      <td>1406</td>\n      <td>52.932550</td>\n      <td>1364</td>\n      <td>0</td>\n      <td>0</td>\n      <td>6606301</td>\n      <td>...</td>\n      <td>27282.379</td>\n      <td>3840.0867</td>\n      <td>189.48804</td>\n      <td>1.65384</td>\n      <td>50.79214</td>\n      <td>2233.0</td>\n      <td>1.3819</td>\n      <td>50.2281</td>\n      <td>0</td>\n      <td>1.752190</td>\n    </tr>\n    <tr>\n      <th>1</th>\n      <td>139</td>\n      <td>44.000000</td>\n      <td>25</td>\n      <td>57.120000</td>\n      <td>1250</td>\n      <td>57.441860</td>\n      <td>1290</td>\n      <td>0</td>\n      <td>0</td>\n      <td>6144606</td>\n      <td>...</td>\n      <td>27830.834</td>\n      <td>3779.7305</td>\n      <td>665.06130</td>\n      <td>16.13098</td>\n      <td>47.44248</td>\n      <td>3003.0</td>\n      <td>17.7897</td>\n      <td>46.7979</td>\n      <td>0</td>\n      <td>1.633554</td>\n    </tr>\n    <tr>\n      <th>2</th>\n      <td>-785</td>\n      <td>65.517240</td>\n      <td>29</td>\n      <td>57.670456</td>\n      <td>352</td>\n      <td>55.466664</td>\n      <td>375</td>\n      <td>0</td>\n      <td>0</td>\n      <td>1838111</td>\n      <td>...</td>\n      <td>15426.104</td>\n      <td>890.8892</td>\n      <td>1380.35660</td>\n      <td>11.20572</td>\n      <td>50.51110</td>\n      <td>2079.0</td>\n      <td>11.1720</td>\n      <td>49.9146</td>\n      <td>0</td>\n      <td>0.434153</td>\n    </tr>\n    <tr>\n      <th>3</th>\n      <td>139</td>\n      <td>66.666670</td>\n      <td>39</td>\n      <td>49.499545</td>\n      <td>1099</td>\n      <td>54.900180</td>\n      <td>1102</td>\n      <td>0</td>\n      <td>0</td>\n      <td>5247812</td>\n      <td>...</td>\n      <td>26371.805</td>\n      <td>4444.6070</td>\n      <td>1363.43500</td>\n      <td>12.08786</td>\n      <td>49.25336</td>\n      <td>3003.0</td>\n      <td>14.1323</td>\n      <td>49.7264</td>\n      <td>0</td>\n      <td>5.283505</td>\n    </tr>\n    <tr>\n      <th>4</th>\n      <td>601</td>\n      <td>59.375000</td>\n      <td>32</td>\n      <td>49.844238</td>\n      <td>1284</td>\n      <td>52.788390</td>\n      <td>1309</td>\n      <td>0</td>\n      <td>0</td>\n      <td>6457179</td>\n      <td>...</td>\n      <td>22130.459</td>\n      <td>2527.6013</td>\n      <td>812.32550</td>\n      <td>8.01404</td>\n      <td>49.80836</td>\n      <td>3465.0</td>\n      <td>7.4670</td>\n      <td>49.4052</td>\n      <td>0</td>\n      <td>0.319872</td>\n    </tr>\n    <tr>\n      <th>5</th>\n      <td>-477</td>\n      <td>62.264150</td>\n      <td>106</td>\n      <td>46.742857</td>\n      <td>875</td>\n      <td>52.662724</td>\n      <td>845</td>\n      <td>1</td>\n      <td>0</td>\n      <td>4258488</td>\n      <td>...</td>\n      <td>25070.113</td>\n      <td>2954.2983</td>\n      <td>1113.50820</td>\n      <td>16.88724</td>\n      <td>49.62226</td>\n      <td>2387.0</td>\n      <td>16.4077</td>\n      <td>49.5248</td>\n      <td>1</td>\n      <td>1.498929</td>\n    </tr>\n    <tr>\n      <th>6</th>\n      <td>-323</td>\n      <td>27.272728</td>\n      <td>11</td>\n      <td>48.480000</td>\n      <td>1250</td>\n      <td>51.566470</td>\n      <td>1181</td>\n      <td>1</td>\n      <td>0</td>\n      <td>5937946</td>\n      <td>...</td>\n      <td>28541.140</td>\n      <td>2986.3167</td>\n      <td>588.93910</td>\n      <td>8.46242</td>\n      <td>49.90816</td>\n      <td>2541.0</td>\n      <td>8.4002</td>\n      <td>50.3744</td>\n      <td>1</td>\n      <td>1.272149</td>\n    </tr>\n    <tr>\n      <th>7</th>\n      <td>755</td>\n      <td>41.176470</td>\n      <td>34</td>\n      <td>50.423920</td>\n      <td>2241</td>\n      <td>51.577955</td>\n      <td>2123</td>\n      <td>1</td>\n      <td>0</td>\n      <td>10538873</td>\n      <td>...</td>\n      <td>25304.502</td>\n      <td>3413.4014</td>\n      <td>1398.35380</td>\n      <td>9.50872</td>\n      <td>52.06560</td>\n      <td>3619.0</td>\n      <td>8.5947</td>\n      <td>52.3047</td>\n      <td>1</td>\n      <td>0.800971</td>\n    </tr>\n    <tr>\n      <th>8</th>\n      <td>601</td>\n      <td>50.684930</td>\n      <td>73</td>\n      <td>47.902870</td>\n      <td>3171</td>\n      <td>52.808990</td>\n      <td>3204</td>\n      <td>1</td>\n      <td>0</td>\n      <td>15674693</td>\n      <td>...</td>\n      <td>25427.800</td>\n      <td>2425.9143</td>\n      <td>961.92395</td>\n      <td>9.74936</td>\n      <td>47.35170</td>\n      <td>3465.0</td>\n      <td>8.8040</td>\n      <td>46.9220</td>\n      <td>1</td>\n      <td>1.350640</td>\n    </tr>\n    <tr>\n      <th>9</th>\n      <td>-15</td>\n      <td>55.670100</td>\n      <td>97</td>\n      <td>51.094890</td>\n      <td>1918</td>\n      <td>51.021504</td>\n      <td>1860</td>\n      <td>0</td>\n      <td>1</td>\n      <td>9263806</td>\n      <td>...</td>\n      <td>26473.541</td>\n      <td>3892.5752</td>\n      <td>754.53485</td>\n      <td>17.28832</td>\n      <td>53.77350</td>\n      <td>2849.0</td>\n      <td>16.2930</td>\n      <td>53.9691</td>\n      <td>1</td>\n      <td>1.644737</td>\n    </tr>\n  </tbody>\n</table>\n<p>10 rows × 36 columns</p>\n</div>"
     },
     "execution_count": 7,
     "metadata": {},
     "output_type": "execute_result"
    }
   ],
   "source": [
    "from sklearn.ensemble import RandomForestRegressor\n",
    "from sklearn.metrics import mean_squared_error, r2_score\n",
    "from sklearn.model_selection import train_test_split\n",
    "\n",
    "columns_to_drop = ['player_xpm', 'player_denies', 'player_lasthits',\n",
    "                   'player_assists_number', 'player_kills_number', 'player_net', 'hero_lvl', 'player_deaths_number']\n",
    "\n",
    "temp_df = df.drop(columns=columns_to_drop).head(10000)\n",
    "\n",
    "temp_df.head(10)"
   ],
   "metadata": {
    "collapsed": false,
    "ExecuteTime": {
     "end_time": "2024-05-01T07:55:45.717077800Z",
     "start_time": "2024-05-01T07:55:45.437043500Z"
    }
   },
   "id": "70b6f053a6612345"
  },
  {
   "cell_type": "code",
   "execution_count": 8,
   "outputs": [
    {
     "name": "stdout",
     "output_type": "stream",
     "text": [
      "Mean Squared Error: 14800.631810781251\n",
      "R-squared: 0.30094965159054066\n"
     ]
    }
   ],
   "source": [
    "X = temp_df.drop(columns=['player_gpm'])\n",
    "y = temp_df['player_gpm']\n",
    "\n",
    "X_train, X_test, y_train, y_test = train_test_split(X, y, test_size=0.2, random_state=42)\n",
    "\n",
    "rf_model = RandomForestRegressor(n_estimators=80, random_state=42)\n",
    "\n",
    "rf_model.fit(X_train, y_train)\n",
    "\n",
    "y_pred = rf_model.predict(X_test)\n",
    "\n",
    "mse = mean_squared_error(y_test, y_pred)\n",
    "r2 = r2_score(y_test, y_pred)\n",
    "\n",
    "print('Mean Squared Error:', mse)\n",
    "print('R-squared:', r2)"
   ],
   "metadata": {
    "collapsed": false,
    "ExecuteTime": {
     "end_time": "2024-05-01T07:56:08.751080Z",
     "start_time": "2024-05-01T07:55:45.688080Z"
    }
   },
   "id": "3b5dc7a236efc4e5"
  },
  {
   "cell_type": "markdown",
   "source": [
    "## Conclusion\n",
    "\n",
    "LinearRegression-based experiments conducted in scope of this notebook (one of which is presented) were unsuccessful.\n",
    "Usage of an advanced model may have given some better results on this non-linear data but that approach would go beyond the scope of my research.\n",
    "\n",
    "Additionally: I doubt those results (even with advanced models) would do any better than around 50% accuracy.  "
   ],
   "metadata": {
    "collapsed": false
   },
   "id": "fe799b430f5bf53c"
  }
 ],
 "metadata": {
  "kernelspec": {
   "display_name": "Python 3",
   "language": "python",
   "name": "python3"
  },
  "language_info": {
   "codemirror_mode": {
    "name": "ipython",
    "version": 2
   },
   "file_extension": ".py",
   "mimetype": "text/x-python",
   "name": "python",
   "nbconvert_exporter": "python",
   "pygments_lexer": "ipython2",
   "version": "2.7.6"
  }
 },
 "nbformat": 4,
 "nbformat_minor": 5
}
